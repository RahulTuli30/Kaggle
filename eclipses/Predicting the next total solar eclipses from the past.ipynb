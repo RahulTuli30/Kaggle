{
 "cells": [
  {
   "cell_type": "markdown",
   "metadata": {},
   "source": [
    "By analyzing the patterns of total eclipses (i.e. non-partial) I aim to predict upcoming eclipses. The key idea here is to count the time (e.g. days) between consecutive eclipses and apply a ML-Algorithm on this pattern."
   ]
  },
  {
   "cell_type": "code",
   "execution_count": 1,
   "metadata": {
    "collapsed": false
   },
   "outputs": [
    {
     "name": "stderr",
     "output_type": "stream",
     "text": [
      "/home/dominik/anaconda3/lib/python3.6/site-packages/sklearn/cross_validation.py:44: DeprecationWarning: This module was deprecated in version 0.18 in favor of the model_selection module into which all the refactored classes and functions are moved. Also note that the interface of the new CV iterators are different from that of this module. This module will be removed in 0.20.\n",
      "  \"This module will be removed in 0.20.\", DeprecationWarning)\n"
     ]
    }
   ],
   "source": [
    "import pandas as pd \n",
    "import numpy as np \n",
    "import matplotlib.pyplot as plt \n",
    "from sklearn.svm import SVC\n",
    "from sklearn.neural_network import MLPClassifier\n",
    "from sklearn.ensemble import RandomForestClassifier\n",
    "import xgboost as xgb"
   ]
  },
  {
   "cell_type": "markdown",
   "metadata": {},
   "source": [
    "Functions for converting dates to a JD-format, and back (not important for the presenation; you can skip this):"
   ]
  },
  {
   "cell_type": "code",
   "execution_count": 2,
   "metadata": {
    "collapsed": true
   },
   "outputs": [],
   "source": [
    "def date_to_jd(date):\n",
    "#transform date (either julian or gregorian) into a julian day number\n",
    "    y = date[0]\n",
    "    mo = date[1]\n",
    "    d = date[2]\n",
    "    h = date[3]\n",
    "    mn = date[4]\n",
    "    s = date[5]\n",
    "\n",
    "    if date[:3] >= [1582,10,15]:\n",
    "        #gregorian date\n",
    "        return 367*y - (7*(y+int((mo+9)/12)))//4 - (3*(int((y+(mo-9)/7)/100)+1))//4+(275*mo)//9+d+1721028.5+h/24+mn/(24*60)+s/86400\n",
    "    elif date[:3] <= [1582,10,4]:\n",
    "        #julian date\n",
    "        return 367*y - (7*(y+5001+int((mo-9)/7)))//4+(275*mo)//9+d+1729776.5+h/24+mn/(24*60)+s/86400\n",
    "\n",
    "def jd_to_date(jd):\n",
    "    Z = int(jd+0.5)\n",
    "    F = (jd+0.5)%1\n",
    "    if Z < 2299161:\n",
    "        A = Z\n",
    "    else:\n",
    "        g = int((Z - 1867216.25) / 36524.25)\n",
    "        A = Z + 1 + g - g//4 \n",
    "\n",
    "    B = A + 1524\n",
    "    C = int((B-122.1) / 365.25)\n",
    "    D = int(365.25 * C)\n",
    "    E = int((B-D) / 30.6001)\n",
    " \n",
    "    d = B - D - int(30.6001*E) + F\n",
    "    if E<14:\n",
    "        mo = E-1\n",
    "    else:\n",
    "        mo = E-13    \n",
    "\n",
    "    if mo >2:\n",
    "        y = C- 4716\n",
    "    else:\n",
    "        y = C - 4715\n",
    "    \n",
    "    return str(y)+'-'+mak_2_dig(mo)+'-'+mak_2_dig(int(d))\n"
   ]
  },
  {
   "cell_type": "markdown",
   "metadata": {},
   "source": [
    "Some helper functions for date-conversion (skip as well):"
   ]
  },
  {
   "cell_type": "code",
   "execution_count": 3,
   "metadata": {
    "collapsed": true
   },
   "outputs": [],
   "source": [
    "def mak_2_dig(x):\n",
    "#transforms all integers bewteen 0 and 99 into a 2-digit string\n",
    "    if x<10:\n",
    "        return '0'+str(x)\n",
    "    else:\n",
    "        return str(x)\n",
    "\n",
    "\n",
    "def transf_date(s):\n",
    "    s = s.split()\n",
    "    s[1] = str(dic_months[s[1]])\n",
    "    return s[0]+':'+s[1]+':'+s[2]\n",
    "\n",
    "dic_months = {'January':1, 'February': 2, 'March':3, 'April':4, 'May':5, 'June': 6, 'July':7, 'August':8, 'September':9, 'October':10, 'November':11, 'December':12}"
   ]
  },
  {
   "cell_type": "markdown",
   "metadata": {},
   "source": [
    "Let's get started. First, we read the data, drop unnecessary columns, and convert the times of eclipses to a JD-format."
   ]
  },
  {
   "cell_type": "code",
   "execution_count": 4,
   "metadata": {
    "collapsed": true
   },
   "outputs": [],
   "source": [
    "df = pd.read_csv(\"data/solar.csv\")\n",
    "df = df.loc[:, ['Calendar Date', 'Eclipse Time', 'Eclipse Type']]\n",
    "#combine Date and Time to Time JD\n",
    "df['Calendar Date'] = df['Calendar Date'].apply(lambda x:transf_date(x))\n",
    "df['Time'] = df.loc[:,['Calendar Date', 'Eclipse Time']].apply(lambda x: x[0]+':'+x[1], axis = 1) \n",
    "df = df.drop(['Calendar Date', 'Eclipse Time'], axis=1)\n",
    "df['Time JD']=df['Time'].apply(lambda x : date_to_jd([int(j) for j in x.split(':')]))\n",
    "del df['Time']"
   ]
  },
  {
   "cell_type": "markdown",
   "metadata": {},
   "source": [
    "From our modern worldview (we know about the earth moving around the sun, and the moon orbiting the earth), we know that the processes causing eclipses are periodic. Therefore, it might not be surprising to find visible patterns in the occurrence of eclipses. We here look at the time elapsing between consecutive eclipses:"
   ]
  },
  {
   "cell_type": "code",
   "execution_count": 5,
   "metadata": {
    "collapsed": true
   },
   "outputs": [],
   "source": [
    "df = df[df['Eclipse Type'].str[0] != 'P']     #exclude partial eclipses\n",
    "##possibly exclude data prior to date\n",
    "#date_start = date_to_jd([1400, 1, 1, 0, 0, 0])   #only use data after this date\n",
    "#df = df[df['Time JD'] > date_start]\n",
    "t_between = df['Time JD'].diff().tolist()   #count days between consecutive eclipses\n",
    "t_between = t_between[1:-1]                 #drop first and last NaN"
   ]
  },
  {
   "cell_type": "markdown",
   "metadata": {},
   "source": [
    "First we check the durations beween eclipses for regularities. "
   ]
  },
  {
   "cell_type": "code",
   "execution_count": 6,
   "metadata": {
    "collapsed": false
   },
   "outputs": [
    {
     "data": {
      "image/png": "[encoded data removed]",
      "text/plain": [
       "<matplotlib.figure.Figure at 0x7f8ab1f32588>"
      ]
     },
     "metadata": {},
     "output_type": "display_data"
    }
   ],
   "source": [
    "plt.hist(t_between,int(max(t_between))+1)\n",
    "plt.xlabel('Time (days)')\n",
    "plt.show()"
   ]
  },
  {
   "cell_type": "markdown",
   "metadata": {},
   "source": [
    "This is even better than expected - there are only very few possibilities of times between eclipses! Essentially only 6 (we ignore uncertainties of +-2 days):"
   ]
  },
  {
   "cell_type": "code",
   "execution_count": 7,
   "metadata": {
    "collapsed": false
   },
   "outputs": [
    {
     "data": {
      "text/plain": [
       "{147, 148, 175, 176, 177, 178, 179, 324, 325, 354, 501, 502, 678, 679, 680}"
      ]
     },
     "execution_count": 7,
     "metadata": {},
     "output_type": "execute_result"
    }
   ],
   "source": [
    "set([int(d) for d in t_between])"
   ]
  },
  {
   "cell_type": "markdown",
   "metadata": {},
   "source": [
    "It might be worth noticing that the durations fulfill quite simple ratios: Based on l_0 = 147.5 days (the lowest of the times; almost never happening), we find that the ratios of the other durations and l_0 are roughly:\n",
    "\n",
    "6/5, 11/5, 12/5, 17/5, 23/5"
   ]
  },
  {
   "cell_type": "markdown",
   "metadata": {},
   "source": [
    "# Predictions\n",
    "\n",
    "I will compare some ML-Classifiers to predict the next eclipses. First, we specify 'today', which separates the data into learning and testing data, then we split the dates and times between accordingly:"
   ]
  },
  {
   "cell_type": "code",
   "execution_count": 8,
   "metadata": {
    "collapsed": true
   },
   "outputs": [],
   "source": [
    "today = date_to_jd([2017, 3, 1, 0, 0,0])\n",
    "\n",
    "df_before = df[df['Time JD'] <= today]\n",
    "df_after = df[df['Time JD'] > today]\n",
    "dates_before = df_before['Time JD'].tolist()\n",
    "dates_after = df_after['Time JD'].tolist()\n",
    "diff_before = [int(j) for j in t_between[:len(dates_before)-1]]  #recorded differences between past ecl.\n",
    "diff_after =  [int(j) for j in t_between[len(dates_before)-1:]]   #differences betw. future ecl. to be predicted"
   ]
  },
  {
   "cell_type": "markdown",
   "metadata": {
    "collapsed": true
   },
   "source": [
    "The predictor should always predict the duration to the next eclipse from the past L eclipses. We specify this L (it is defined like this to make sure L is small enough that we can reasonably learn from the past), in fact I have optimized it through validation:"
   ]
  },
  {
   "cell_type": "code",
   "execution_count": 9,
   "metadata": {
    "collapsed": false
   },
   "outputs": [],
   "source": [
    "L = len(diff_before)//82"
   ]
  },
  {
   "cell_type": "markdown",
   "metadata": {},
   "source": [
    "Then we create the training set from diff_before:"
   ]
  },
  {
   "cell_type": "code",
   "execution_count": 10,
   "metadata": {
    "collapsed": true
   },
   "outputs": [],
   "source": [
    "X = []\n",
    "y = []\n",
    "for j in range(len(diff_before)-L):\n",
    "    X.append(diff_before[j:j+L])\n",
    "    y.append(diff_before[j+L]) \n",
    "\n",
    "X = np.array(X)\n",
    "y = np.array(y)"
   ]
  },
  {
   "cell_type": "markdown",
   "metadata": {},
   "source": [
    "In order to perform some kind of validation, I split the training data again - namely, I take the last fraction of size p of the training set for this (it doesn't make sense to randomly pick the validation set, since adjacent entries of X are highly correlated):"
   ]
  },
  {
   "cell_type": "code",
   "execution_count": 11,
   "metadata": {
    "collapsed": true
   },
   "outputs": [],
   "source": [
    "p = 0.15 #fraction used for validation\n",
    "X_val = X[int((1-p)*len(X)):]\n",
    "y_val = y[int((1-p)*len(y)):]\n",
    "\n",
    "X_train = X[:int((1-p)*len(X))]\n",
    "y_train = y[:int((1-p)*len(y))]"
   ]
  },
  {
   "cell_type": "markdown",
   "metadata": {},
   "source": [
    "We pick and train a learning algorithm on the (1-p)-training fraction:"
   ]
  },
  {
   "cell_type": "code",
   "execution_count": 17,
   "metadata": {
    "collapsed": false
   },
   "outputs": [
    {
     "data": {
      "text/plain": [
       "RandomForestClassifier(bootstrap=True, class_weight=None, criterion='gini',\n",
       "            max_depth=None, max_features='auto', max_leaf_nodes=None,\n",
       "            min_impurity_split=1e-07, min_samples_leaf=1,\n",
       "            min_samples_split=2, min_weight_fraction_leaf=0.0,\n",
       "            n_estimators=1000, n_jobs=1, oob_score=False,\n",
       "            random_state=None, verbose=0, warm_start=False)"
      ]
     },
     "execution_count": 17,
     "metadata": {},
     "output_type": "execute_result"
    }
   ],
   "source": [
    "#lrn = MLPClassifier(solver='lbfgs', alpha=1e-5, hidden_layer_sizes=(500,), learning_rate = 'adaptive')\n",
    "#lrn = SVC(kernel = 'linear', C=1000)     #just takes too long\n",
    "lrn = RandomForestClassifier(1000)\n",
    "lrn.fit(X_train, y_train)"
   ]
  },
  {
   "cell_type": "markdown",
   "metadata": {},
   "source": [
    "Now we test it on the validation set X_val (and accept deviations of +-1 days):"
   ]
  },
  {
   "cell_type": "code",
   "execution_count": 18,
   "metadata": {
    "collapsed": false
   },
   "outputs": [
    {
     "name": "stdout",
     "output_type": "stream",
     "text": [
      "Predictions more than 1 day off: 5.6%\n",
      "Tested on 916 samples\n"
     ]
    }
   ],
   "source": [
    "c = 0\n",
    "s = lrn.predict(X_val)\n",
    "for i in range(len(y_val)):\n",
    "    if np.absolute(y_val[i] - s[i]) > 1:\n",
    "        c += 1       #count wrong predictions\n",
    "print(\"Predictions more than 1 day off: {}%\".format(((c*1000)//len(y_val))/10))\n",
    "print(\"Tested on {} samples\".format(len(y_val)))"
   ]
  },
  {
   "cell_type": "markdown",
   "metadata": {},
   "source": [
    "Among the three algorithms chosen above, the Random Forest Classifier produces the best results in a reasonable time, with an error rate greater than 5%.\n",
    "\n",
    "But I want to compare this result with a prediction model using XGBoost (optimizing the parameters is not shown here)."
   ]
  },
  {
   "cell_type": "code",
   "execution_count": 16,
   "metadata": {
    "collapsed": false
   },
   "outputs": [
    {
     "name": "stdout",
     "output_type": "stream",
     "text": [
      "Predictions more than 1 day off: 3.6%\n",
      "Tested on 916 samples\n"
     ]
    }
   ],
   "source": [
    "lrn = xgb.XGBClassifier(learning_rate = 0.05, max_depth = 10, objective = \"reg:linear\")\n",
    "lrn.fit(X_train, y_train)\n",
    "\n",
    "c = 0\n",
    "s = lrn.predict(X_val)\n",
    "for i in range(len(y_val)):\n",
    "    if np.absolute(y_val[i] - s[i]) > 1:\n",
    "        c += 1       #count wrong predictions\n",
    "print(\"Predictions more than 1 day off: {}%\".format(((c*1000)//len(y_val))/10))\n",
    "print(\"Tested on {} samples\".format(len(y_val)))"
   ]
  },
  {
   "cell_type": "markdown",
   "metadata": {},
   "source": [
    "This is great - XGBoost has an even lower error rate! We will stick to XGBoost for future predictions."
   ]
  },
  {
   "cell_type": "markdown",
   "metadata": {},
   "source": [
    "Having tested the quality of the prediction, we train the classifier again on the entire training set X, and then predict the next eclipses. Here, I will not only attempt to predict the next eclipse, but also some more eclipses ahead. Those further predictions will be based on the previous predictions, so errors are more likely to propagate."
   ]
  },
  {
   "cell_type": "code",
   "execution_count": 19,
   "metadata": {
    "collapsed": false
   },
   "outputs": [
    {
     "name": "stdout",
     "output_type": "stream",
     "text": [
      "Prediction:       [176, 679, 176, 177, 176, 177, 176, 501, 177, 176]\n",
      "Calculated/true:  [176, 680, 176, 178, 176, 177, 176, 501, 177, 177]\n"
     ]
    }
   ],
   "source": [
    "N_future = 10   #number of predictions into the future\n",
    "lrn.fit(X, y)   # optionally train the model again on the 'entire' past \n",
    "#prediction part: append every further prediction to the feature set\n",
    "\n",
    "xx = np.array(X[-1])\n",
    "xx = np.roll(xx,-1)\n",
    "xx[-1] = y[-1]\n",
    "y_pred = []\n",
    "d_last = dates_before[-1]\n",
    "\n",
    "for i in range(N_future):\n",
    "    yy = lrn.predict([xx])\n",
    "    y_pred.append(yy[0])\n",
    "    xx = np.roll(xx,-1)\n",
    "    xx[-1] = yy\n",
    "\n",
    "\n",
    "print(\"Prediction:      \", y_pred)\n",
    "print(\"Calculated/true: \", diff_after[:N_future])"
   ]
  },
  {
   "cell_type": "markdown",
   "metadata": {},
   "source": [
    "The prediction is for the days between eclipses. In order to predict dates of eclipses, we compute the actual dates from this data:"
   ]
  },
  {
   "cell_type": "code",
   "execution_count": 20,
   "metadata": {
    "collapsed": false
   },
   "outputs": [
    {
     "name": "stdout",
     "output_type": "stream",
     "text": [
      "Date (predicted)   Date (calculated/true)\n",
      "  2017-08-21          2017-08-21\n",
      "  2019-07-01          2019-07-02\n",
      "  2019-12-24          2019-12-26\n",
      "  2020-06-18          2020-06-21\n",
      "  2020-12-11          2020-12-14\n",
      "  2021-06-06          2021-06-10\n",
      "  2021-11-29          2021-12-04\n",
      "  2023-04-14          2023-04-20\n",
      "  2023-10-08          2023-10-14\n",
      "  2024-04-01          2024-04-08\n"
     ]
    }
   ],
   "source": [
    "days_pred = [d_last + i for i in np.cumsum(y_pred)]\n",
    "print(\"Date (predicted)   Date (calculated/true)\")\n",
    "for i in range(len(days_pred)):\n",
    "    print(\"  \"+jd_to_date(days_pred[i])+\"          \"+jd_to_date(dates_after[i]))"
   ]
  },
  {
   "cell_type": "markdown",
   "metadata": {},
   "source": [
    "This is pretty good - in the case where we are not too unlucky, the predictions should be accurate up to a couple of days. Of course, once a single prediction is off, all further predictions are rendered worthless. But we need to keep in mind that this is how we have designed our model - to just predict the next eclipse."
   ]
  },
  {
   "cell_type": "code",
   "execution_count": null,
   "metadata": {
    "collapsed": true
   },
   "outputs": [],
   "source": []
  }
 ],
 "metadata": {
  "anaconda-cloud": {},
  "kernelspec": {
   "display_name": "Python 3",
   "language": "python",
   "name": "python3"
  },
  "language_info": {
   "codemirror_mode": {
    "name": "ipython",
    "version": 3
   },
   "file_extension": ".py",
   "mimetype": "text/x-python",
   "name": "python",
   "nbconvert_exporter": "python",
   "pygments_lexer": "ipython3",
   "version": "3.6.0"
  }
 },
 "nbformat": 4,
 "nbformat_minor": 1
}
