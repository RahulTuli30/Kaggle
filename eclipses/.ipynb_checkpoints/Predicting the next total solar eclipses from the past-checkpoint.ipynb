{
 "cells": [
  {
   "cell_type": "markdown",
   "metadata": {},
   "source": [
    "By analyzing the patterns of total eclipses (i.e. non-partial) I aim to predict upcoming eclipses. The key idea here is to count the time (e.g. days) between consecutive eclipses and apply a ML-Algorithm on this pattern."
   ]
  },
  {
   "cell_type": "code",
   "execution_count": 1,
   "metadata": {
    "collapsed": true
   },
   "outputs": [],
   "source": [
    "import pandas as pd \n",
    "import numpy as np \n",
    "import matplotlib.pyplot as plt \n",
    "from sklearn.svm import SVC\n",
    "from sklearn.neural_network import MLPClassifier\n",
    "from sklearn.ensemble import RandomForestClassifier"
   ]
  },
  {
   "cell_type": "markdown",
   "metadata": {},
   "source": [
    "Functions for converting dates to a JD-format, and back (not important for the presenation; you can skip this):"
   ]
  },
  {
   "cell_type": "code",
   "execution_count": 2,
   "metadata": {
    "collapsed": true
   },
   "outputs": [],
   "source": [
    "def date_to_jd(date):\n",
    "#transform date (either julian or gregorian) into a julian day number\n",
    "    y = date[0]\n",
    "    mo = date[1]\n",
    "    d = date[2]\n",
    "    h = date[3]\n",
    "    mn = date[4]\n",
    "    s = date[5]\n",
    "\n",
    "    if date[:3] >= [1582,10,15]:\n",
    "        #gregorian date\n",
    "        return 367*y - (7*(y+int((mo+9)/12)))//4 - (3*(int((y+(mo-9)/7)/100)+1))//4+(275*mo)//9+d+1721028.5+h/24+mn/(24*60)+s/86400\n",
    "    elif date[:3] <= [1582,10,4]:\n",
    "        #julian date\n",
    "        return 367*y - (7*(y+5001+int((mo-9)/7)))//4+(275*mo)//9+d+1729776.5+h/24+mn/(24*60)+s/86400\n",
    "\n",
    "def jd_to_date(jd):\n",
    "    Z = int(jd+0.5)\n",
    "    F = (jd+0.5)%1\n",
    "    if Z < 2299161:\n",
    "        A = Z\n",
    "    else:\n",
    "        g = int((Z - 1867216.25) / 36524.25)\n",
    "        A = Z + 1 + g - g//4 \n",
    "\n",
    "    B = A + 1524\n",
    "    C = int((B-122.1) / 365.25)\n",
    "    D = int(365.25 * C)\n",
    "    E = int((B-D) / 30.6001)\n",
    " \n",
    "    d = B - D - int(30.6001*E) + F\n",
    "    if E<14:\n",
    "        mo = E-1\n",
    "    else:\n",
    "        mo = E-13    \n",
    "\n",
    "    if mo >2:\n",
    "        y = C- 4716\n",
    "    else:\n",
    "        y = C - 4715\n",
    "    \n",
    "    return y, mo, int(d)"
   ]
  },
  {
   "cell_type": "markdown",
   "metadata": {},
   "source": [
    "Some helper functions for date-conversion (skip as well):"
   ]
  },
  {
   "cell_type": "code",
   "execution_count": 4,
   "metadata": {
    "collapsed": true
   },
   "outputs": [],
   "source": [
    "def mak_2_dig(x):\n",
    "#transforms all integers bewteen 0 and 99 into a 2-digit string\n",
    "    if x<10:\n",
    "        return '0'+str(x)\n",
    "    else:\n",
    "        return str(x)\n",
    "\n",
    "\n",
    "def transf_date(s):\n",
    "    s = s.split()\n",
    "    s[1] = str(dic_months[s[1]])\n",
    "    return s[0]+':'+s[1]+':'+s[2]\n",
    "\n",
    "dic_months = {'January':1, 'February': 2, 'March':3, 'April':4, 'May':5, 'June': 6, 'July':7, 'August':8, 'September':9, 'October':10, 'November':11, 'December':12}"
   ]
  },
  {
   "cell_type": "markdown",
   "metadata": {},
   "source": [
    "Let's get started. First, we read the data, drop unnecessary columns, and convert the times of eclipses to a JD-format."
   ]
  },
  {
   "cell_type": "code",
   "execution_count": 5,
   "metadata": {
    "collapsed": true
   },
   "outputs": [],
   "source": [
    "df = pd.read_csv(\"data/solar.csv\")\n",
    "df = df.loc[:, ['Calendar Date', 'Eclipse Time', 'Eclipse Type']]\n",
    "#combine Date and Time to Time JD\n",
    "df['Calendar Date'] = df['Calendar Date'].apply(lambda x:transf_date(x))\n",
    "df['Time'] = df.loc[:,['Calendar Date', 'Eclipse Time']].apply(lambda x: x[0]+':'+x[1], axis = 1) \n",
    "df = df.drop(['Calendar Date', 'Eclipse Time'], axis=1)\n",
    "df['Time JD']=df['Time'].apply(lambda x : date_to_jd([int(j) for j in x.split(':')]))\n",
    "del df['Time']"
   ]
  },
  {
   "cell_type": "markdown",
   "metadata": {},
   "source": [
    "From our modern worldview (we know about the earth moving around the sun, and the moon orbiting the earth), we know that the processes causing eclipses are periodic. Therefore, it might not be surprising to find visible patterns in the occurrence of eclipses. We here look at the time elapsing between consecutive eclipses:"
   ]
  },
  {
   "cell_type": "code",
   "execution_count": 8,
   "metadata": {
    "collapsed": false
   },
   "outputs": [
    {
     "data": {
      "image/png": "[encoded data removed]",
      "text/plain": [
       "<matplotlib.figure.Figure at 0x211f5fbae48>"
      ]
     },
     "metadata": {},
     "output_type": "display_data"
    }
   ],
   "source": [
    "df = df[df['Eclipse Type'].str[0] != 'P']     #exclude partial eclipses (umbral shadow misses earth)\n",
    "t_between = df['Time JD'].diff().tolist()   #count days between consecutive eclipses\n",
    "t_between = t_between[1:-1]                 #drop first and last NaN\n",
    "plt.hist(t_between,int(max(t_between))+1)\n",
    "plt.xlabel('Time (days)')\n",
    "plt.show()"
   ]
  },
  {
   "cell_type": "markdown",
   "metadata": {},
   "source": [
    "This is greater than expected - there are only very few possibilities of times between eclipses! Essentially only 6 (we ignore uncertainties of +- 1 days):"
   ]
  },
  {
   "cell_type": "code",
   "execution_count": 10,
   "metadata": {
    "collapsed": false
   },
   "outputs": [
    {
     "data": {
      "text/plain": [
       "{147, 148, 175, 176, 177, 178, 179, 324, 325, 354, 501, 502, 678, 679, 680}"
      ]
     },
     "execution_count": 10,
     "metadata": {},
     "output_type": "execute_result"
    }
   ],
   "source": [
    "set([int(d) for d in t_between])"
   ]
  },
  {
   "cell_type": "markdown",
   "metadata": {},
   "source": [
    "It might be worth noticing that the durations fulfill quite simple ratios: Based on l_0 = 147.5 days (the lowest of the times; almost never happening), we find that the ratios of the other durations and l_0 are roughly:\n",
    "\n",
    "6/5, 11/5, 12/5, 17/5, 23/5"
   ]
  },
  {
   "cell_type": "markdown",
   "metadata": {},
   "source": [
    "# Predictions\n",
    "\n",
    "I will compare some ML-Classifiers to predict the next eclipses. First, we specify 'today', which separates the data into learning and testing data, then we split the dates and times between accordingly:"
   ]
  },
  {
   "cell_type": "code",
   "execution_count": 11,
   "metadata": {
    "collapsed": true
   },
   "outputs": [],
   "source": [
    "today = date_to_jd([2017, 3, 1, 0, 0,0])\n",
    "\n",
    "df_before = df[df['Time JD'] <= today]\n",
    "df_after = df[df['Time JD'] > today]\n",
    "dates_before = df_before['Time JD'].tolist()\n",
    "dates_after = df_after['Time JD'].tolist()\n",
    "diff_before = [int(j) for j in t_between[:len(dates_before)-1]]  #recorded differences between past ecl.\n",
    "diff_after =  [int(j) for j in t_between[len(dates_before)-1:]]   #differences betw. future ecl. to be predicted"
   ]
  },
  {
   "cell_type": "markdown",
   "metadata": {},
   "source": [
    "My first attempt is to learn from seqences of N consecutive eclipses, and use this to predict the next eclipse from the N previous eclipses. Then I use the last N-1 eclipses plus the 1 prediction, to perdict the next eclipse, and so on, one eclipse after another. This is not necessarily an optimal approach, since all except the first prediction will be (partially) based on previous predictions. Errors made early on will be propagated.\n",
    "\n",
    "Let's say we want to predict the next 10 eclipses. We create the training data set:"
   ]
  },
  {
   "cell_type": "code",
   "execution_count": 12,
   "metadata": {
    "collapsed": true
   },
   "outputs": [],
   "source": [
    "N_future = 10   #number of predictions into the future\n",
    "N = 150     #number of past eclipses used for prediction of next one\n",
    "\n",
    "X = []\n",
    "y = []\n",
    "for j in range(len(diff_before)-N):\n",
    "    X.append(diff_before[j:j+N])\n",
    "    y.append(diff_before[j+N])"
   ]
  },
  {
   "cell_type": "markdown",
   "metadata": {},
   "source": [
    "Let us try a Random Forest Classifier:"
   ]
  },
  {
   "cell_type": "code",
   "execution_count": 13,
   "metadata": {
    "collapsed": false
   },
   "outputs": [
    {
     "data": {
      "text/plain": [
       "RandomForestClassifier(bootstrap=True, class_weight=None, criterion='gini',\n",
       "            max_depth=None, max_features='auto', max_leaf_nodes=None,\n",
       "            min_impurity_split=1e-07, min_samples_leaf=1,\n",
       "            min_samples_split=2, min_weight_fraction_leaf=0.0,\n",
       "            n_estimators=1000, n_jobs=1, oob_score=False,\n",
       "            random_state=None, verbose=0, warm_start=False)"
      ]
     },
     "execution_count": 13,
     "metadata": {},
     "output_type": "execute_result"
    }
   ],
   "source": [
    "lrn = RandomForestClassifier(1000)\n",
    "lrn.fit(X, y)"
   ]
  },
  {
   "cell_type": "markdown",
   "metadata": {},
   "source": [
    "Now comes the prediction part: Predict the next eclipse, attach the 'time-until-next-eclipse' to the data set, then predict the eclipse after that, attach the predicted value, etc."
   ]
  },
  {
   "cell_type": "code",
   "execution_count": 14,
   "metadata": {
    "collapsed": true
   },
   "outputs": [],
   "source": [
    "xx = np.array(X[-1])\n",
    "xx = np.roll(xx,-1)\n",
    "xx[-1] = y[-1]\n",
    "y_pred = []\n",
    "d_last = dates_before[-1]\n",
    "\n",
    "for i in range(N_future):\n",
    "    yy = lrn.predict([xx])\n",
    "    y_pred.append(yy[0])\n",
    "    xx = np.roll(xx,-1)\n",
    "    xx[-1] = yy"
   ]
  },
  {
   "cell_type": "markdown",
   "metadata": {},
   "source": [
    "Compare the dayse between the eclipses as predicted with the actual data:"
   ]
  },
  {
   "cell_type": "code",
   "execution_count": 15,
   "metadata": {
    "collapsed": false
   },
   "outputs": [
    {
     "name": "stdout",
     "output_type": "stream",
     "text": [
      "[176, 679, 176, 177, 176, 177, 176, 502, 177, 176]\n",
      "[176, 680, 176, 178, 176, 177, 176, 501, 177, 177]\n"
     ]
    }
   ],
   "source": [
    "print(y_pred)\n",
    "print(diff_after[:N_future])"
   ]
  },
  {
   "cell_type": "code",
   "execution_count": 16,
   "metadata": {
    "collapsed": false
   },
   "outputs": [
    {
     "name": "stdout",
     "output_type": "stream",
     "text": [
      "[(2017, 8, 21), (2019, 7, 1), (2019, 12, 24), (2020, 6, 18), (2020, 12, 11), (2021, 6, 6), (2021, 11, 29), (2023, 4, 15), (2023, 10, 9), (2024, 4, 2)]\n",
      "[(2017, 8, 21), (2019, 7, 2), (2019, 12, 26), (2020, 6, 21), (2020, 12, 14), (2021, 6, 10), (2021, 12, 4), (2023, 4, 20), (2023, 10, 14), (2024, 4, 8)]\n"
     ]
    }
   ],
   "source": [
    "days_pred = [d_last + i for i in np.cumsum(y_pred)]\n",
    "print([jd_to_date(i) for i in days_pred])\n",
    "print([jd_to_date(i) for i in dates_after[:N_future]])"
   ]
  },
  {
   "cell_type": "markdown",
   "metadata": {},
   "source": [
    "Up to +- one day the predictions are quite ok. Of course, errors accumulate, and in 2024 we end up with an error of 6 days. It might be safer to just predict the next eclipse. \n",
    "\n",
    "In the follow-up post I will include cross-validation to actually find the 'best' model."
   ]
  },
  {
   "cell_type": "code",
   "execution_count": null,
   "metadata": {
    "collapsed": true
   },
   "outputs": [],
   "source": []
  }
 ],
 "metadata": {
  "anaconda-cloud": {},
  "kernelspec": {
   "display_name": "Python [default]",
   "language": "python",
   "name": "python3"
  },
  "language_info": {
   "codemirror_mode": {
    "name": "ipython",
    "version": 3
   },
   "file_extension": ".py",
   "mimetype": "text/x-python",
   "name": "python",
   "nbconvert_exporter": "python",
   "pygments_lexer": "ipython3",
   "version": "3.5.2"
  }
 },
 "nbformat": 4,
 "nbformat_minor": 1
}
