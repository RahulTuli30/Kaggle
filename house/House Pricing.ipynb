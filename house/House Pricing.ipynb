{
 "cells": [
  {
   "cell_type": "markdown",
   "metadata": {},
   "source": [
    "# Importing Modules & Reading Data"
   ]
  },
  {
   "cell_type": "code",
   "execution_count": 1,
   "metadata": {
    "collapsed": true
   },
   "outputs": [],
   "source": [
    "import pandas as pd \n",
    "import random\n",
    "import numpy as np \n",
    "import matplotlib.pyplot as plt\n",
    "import matplotlib.colors as colors\n",
    "from sklearn.decomposition import PCA\n",
    "from sklearn import svm, preprocessing, tree, linear_model\n",
    "from sklearn.model_selection import cross_val_score\n",
    "from sklearn.linear_model import LinearRegression, BayesianRidge, Lasso, ElasticNet, Ridge\n",
    "from sklearn.neural_network import MLPClassifier, MLPRegressor\n",
    "from sklearn.discriminant_analysis import LinearDiscriminantAnalysis\n",
    "from sklearn.kernel_ridge import KernelRidge\n",
    "from sklearn.ensemble import RandomForestRegressor, RandomForestClassifier, GradientBoostingRegressor\n",
    "import csv\n",
    "from sklearn import metrics\n",
    "from sklearn.model_selection import GridSearchCV\n",
    "from sklearn.pipeline import Pipeline, make_pipeline\n",
    "from sklearn.preprocessing import PolynomialFeatures\n",
    "\n",
    "df_train = pd.read_csv(\"train.csv\")\n",
    "df_test = pd.read_csv('test.csv')\n",
    "ids = df_test['Id']\n",
    "\n",
    "y = np.log(df_train['SalePrice'].tolist())\t\t#y is training prices # log is better for this problem\n",
    "del df_train['SalePrice']"
   ]
  },
  {
   "cell_type": "markdown",
   "metadata": {},
   "source": [
    "# Preparing the data\n",
    "Next we merge the training and the testing set, in order to deal with the categorical variables in a uniform way:"
   ]
  },
  {
   "cell_type": "code",
   "execution_count": 2,
   "metadata": {
    "collapsed": true
   },
   "outputs": [],
   "source": [
    "df = df_train.append(df_test)"
   ]
  },
  {
   "cell_type": "markdown",
   "metadata": {},
   "source": [
    "Categorical features that represent a quality can be transformed into numerical values"
   ]
  },
  {
   "cell_type": "code",
   "execution_count": 3,
   "metadata": {
    "collapsed": true
   },
   "outputs": [],
   "source": [
    "conds = ['Ex', 'Gd', 'TA', 'Fa', 'Po']\n",
    "for i in range(len(conds)):\n",
    "\tdf.loc[df['ExterQual']==conds[i], 'ExterQual'] = len(conds)-i-1\n",
    "\tdf.loc[df['ExterCond']==conds[i], 'ExterCond'] = len(conds)-i-1\n",
    "\tdf.loc[df['BsmtQual'] == conds[i], 'BsmtQual'] = len(conds)-i\n",
    "\tdf.loc[df['BsmtCond'] == conds[i], 'BsmtCond'] = len(conds)-i\n",
    "\tdf.loc[df['HeatingQC']==conds[i], 'HeatingQC'] = len(conds)-i-1\n",
    "\tdf.loc[df['KitchenQual']==conds[i], 'KitchenQual'] = len(conds)-i-1\n",
    "\tdf.loc[df['FireplaceQu']==conds[i], 'FireplaceQu'] = len(conds)-i\n",
    "\tdf.loc[df['GarageQual']==conds[i], 'GarageQual'] = len(conds)-i-1\n",
    "\tdf.loc[df['GarageCond']==conds[i], 'GarageCond'] = len(conds)-i-1\n"
   ]
  },
  {
   "cell_type": "markdown",
   "metadata": {},
   "source": [
    "I don't care when a remodeling took place, but only if it did take place:"
   ]
  },
  {
   "cell_type": "code",
   "execution_count": 4,
   "metadata": {
    "collapsed": true
   },
   "outputs": [],
   "source": [
    "df.loc[df['YearRemodAdd'] != df['YearBuilt'], 'YearRemodAdd'] = 0\n",
    "df.loc[df['YearRemodAdd'] == df['YearBuilt'], 'YearRemodAdd'] = 1"
   ]
  },
  {
   "cell_type": "markdown",
   "metadata": {},
   "source": [
    "Fill in missing values in the above qualitative features, either by 0 if the feature is non-existant, or by the mean if the feature just seems to be missing:"
   ]
  },
  {
   "cell_type": "code",
   "execution_count": 5,
   "metadata": {
    "collapsed": true
   },
   "outputs": [],
   "source": [
    "df.ExterCond.fillna(df['ExterCond'].mean(), inplace=True)\n",
    "df.ExterQual.fillna(df['ExterQual'].mean(), inplace=True)\n",
    "df.BsmtQual.fillna(0, inplace=True)\n",
    "df.BsmtCond.fillna(0, inplace=True)\n",
    "df.HeatingQC.fillna(df['HeatingQC'].mean(), inplace=True)\n",
    "df.KitchenQual.fillna(df['KitchenQual'].mean(), inplace=True)\n",
    "df.FireplaceQu.fillna(0, inplace=True)\n",
    "df.GarageQual.fillna(0, inplace=True)\n",
    "df.GarageCond.fillna(0, inplace=True)"
   ]
  },
  {
   "cell_type": "markdown",
   "metadata": {},
   "source": [
    "Missing 'LotFrontage' most likely means non-existence, hence set to zero. Translate 'CentralAir' into numerical values."
   ]
  },
  {
   "cell_type": "code",
   "execution_count": 6,
   "metadata": {
    "collapsed": true
   },
   "outputs": [],
   "source": [
    "df.LotFrontage.fillna(0, inplace=True)\n",
    "df.loc[df['CentralAir'] == 'Y', 'CentralAir'] = 1\n",
    "df.loc[df['CentralAir'] == 'N', 'CentralAir'] = 0\n",
    "df.CentralAir.fillna(df['CentralAir'].mean(), inplace=True)"
   ]
  },
  {
   "cell_type": "markdown",
   "metadata": {},
   "source": [
    "Translate all other categorical features into dummy variables:"
   ]
  },
  {
   "cell_type": "code",
   "execution_count": 7,
   "metadata": {
    "collapsed": true
   },
   "outputs": [],
   "source": [
    "columns_cat = ['MSSubClass', 'MSZoning', 'Street', 'Alley', 'LotShape', 'LandContour', 'Utilities', 'LotConfig', 'LandSlope', 'Neighborhood', 'Condition1', 'Condition2', 'BldgType', 'HouseStyle', 'RoofStyle', 'RoofMatl', 'Exterior1st', 'Exterior2nd', 'Foundation', 'BsmtExposure', 'BsmtFinType1', 'BsmtFinType2', 'Heating', 'Electrical', 'Functional', 'GarageType', 'GarageFinish', 'PavedDrive', 'PoolQC', 'Fence', 'MiscFeature', 'SaleType', 'SaleCondition']\n",
    "df = pd.concat([df, pd.get_dummies(df[columns_cat])],axis = 1)\n",
    "for c in columns_cat:\t#delete categorical variables since we have dummies now\n",
    "\tdel df[c]"
   ]
  },
  {
   "cell_type": "markdown",
   "metadata": {},
   "source": [
    "In most cases the garage was built in the same year as the house:"
   ]
  },
  {
   "cell_type": "code",
   "execution_count": 8,
   "metadata": {
    "collapsed": true
   },
   "outputs": [],
   "source": [
    "df.loc[pd.isnull(df['GarageYrBlt']), 'GarageYrBlt'] = df.loc[pd.isnull(df['GarageYrBlt']), 'YearBuilt']"
   ]
  },
  {
   "cell_type": "markdown",
   "metadata": {},
   "source": [
    "Take care of 'MasVnrType'"
   ]
  },
  {
   "cell_type": "code",
   "execution_count": 9,
   "metadata": {
    "collapsed": true
   },
   "outputs": [],
   "source": [
    "df.loc[pd.isnull(df['MasVnrType']), 'MasVnrType']  = 'None'\n",
    "pd.concat([df, pd.get_dummies(df['MasVnrType'])],axis = 1)\n",
    "del df['MasVnrType']"
   ]
  },
  {
   "cell_type": "markdown",
   "metadata": {},
   "source": [
    "Very few values are still missing, replace them by the mean of the respective columns:"
   ]
  },
  {
   "cell_type": "code",
   "execution_count": 10,
   "metadata": {
    "collapsed": true
   },
   "outputs": [],
   "source": [
    "df = df.fillna(df.mean())"
   ]
  },
  {
   "cell_type": "markdown",
   "metadata": {},
   "source": [
    "Now we split df back into the training and testing dataframe:"
   ]
  },
  {
   "cell_type": "code",
   "execution_count": 11,
   "metadata": {
    "collapsed": true
   },
   "outputs": [],
   "source": [
    "df_train = df.iloc[0:1460,:]\n",
    "df_test = df.iloc[1460:, :]\n",
    "\n",
    "X = df_train.values.tolist()\n",
    "X_test = df_test.values.tolist()"
   ]
  },
  {
   "cell_type": "markdown",
   "metadata": {},
   "source": [
    "# Overview\n",
    "The following is to compare different methods we could cosider. Good parameters were chosen with grid search, see an example for Lasso below."
   ]
  },
  {
   "cell_type": "code",
   "execution_count": 12,
   "metadata": {
    "collapsed": false
   },
   "outputs": [
    {
     "name": "stdout",
     "output_type": "stream",
     "text": [
      "Regressor: LinearRegression(copy_X=True, fit_intercept=True, n_jobs=1, normalize=False)\n",
      "Cross-validation error:  0.156737913051\n",
      "\n",
      "\n",
      "Regressor: Lasso(alpha=0.000398, copy_X=True, fit_intercept=True, max_iter=3000,\n",
      "   normalize=False, positive=False, precompute=False, random_state=None,\n",
      "   selection='cyclic', tol=0.0001, warm_start=False)\n",
      "Cross-validation error:  0.138191520237\n",
      "\n",
      "\n",
      "Regressor: ElasticNet(alpha=0.0015848931924611141, copy_X=True, fit_intercept=True,\n",
      "      l1_ratio=0.2, max_iter=5000, normalize=False, positive=False,\n",
      "      precompute=False, random_state=None, selection='cyclic', tol=0.0001,\n",
      "      warm_start=False)\n",
      "Cross-validation error:  0.13804446024\n",
      "\n",
      "\n",
      "Regressor: RandomForestRegressor(bootstrap=True, criterion='mse', max_depth=13,\n",
      "           max_features='auto', max_leaf_nodes=None,\n",
      "           min_impurity_split=0.0001, min_samples_leaf=1,\n",
      "           min_samples_split=2, min_weight_fraction_leaf=0.0,\n",
      "           n_estimators=15, n_jobs=1, oob_score=False, random_state=None,\n",
      "           verbose=0, warm_start=False)\n",
      "Cross-validation error:  0.145922322906\n",
      "\n",
      "\n",
      "Regressor: GradientBoostingRegressor(alpha=0.9, criterion='friedman_mse', init=None,\n",
      "             learning_rate=0.1, loss='ls', max_depth=3, max_features=None,\n",
      "             max_leaf_nodes=None, min_impurity_split=3.16e-05,\n",
      "             min_samples_leaf=1, min_samples_split=2,\n",
      "             min_weight_fraction_leaf=0.0, n_estimators=100,\n",
      "             presort='auto', random_state=None, subsample=1.0, verbose=0,\n",
      "             warm_start=False)\n",
      "Cross-validation error:  0.126175077718\n",
      "\n",
      "\n",
      "Regressor: BayesianRidge(alpha_1=0.0001, alpha_2=3.1622776601683792e-06,\n",
      "       compute_score=False, copy_X=True, fit_intercept=True,\n",
      "       lambda_1=12.589254117941675, lambda_2=0.01, n_iter=50,\n",
      "       normalize=False, tol=0.001, verbose=False)\n",
      "Cross-validation error:  0.140446301116\n",
      "\n",
      "\n"
     ]
    }
   ],
   "source": [
    "est_list = [LinearRegression(), \n",
    "            Lasso(alpha = 0.000398,max_iter = 3000), \n",
    "            linear_model.ElasticNet(alpha = np.power(10., -2.8), l1_ratio = 0.2, max_iter =5000), \n",
    "            RandomForestRegressor(n_estimators = 15, max_depth = 13, min_impurity_split = np.power(10., -4)), \n",
    "            GradientBoostingRegressor(max_depth = 3, min_impurity_split = 3.16e-05),\n",
    "            BayesianRidge(alpha_1=1e-04, alpha_2=np.power(10., -5.5), lambda_1=np.power(10., 1.1), lambda_2=np.power(10., -2), n_iter=50)]\n",
    "for est in est_list:\n",
    "    est.fit(X, y)\n",
    "    sc = cross_val_score(est, X, y, cv=10, scoring = 'neg_mean_squared_error')\n",
    "    print(\"Regressor:\", str(est))\n",
    "    print('Cross-validation error: ', np.sqrt(-np.mean(sc)))           #cross validation score\n",
    "    print('\\n')"
   ]
  },
  {
   "cell_type": "markdown",
   "metadata": {},
   "source": [
    "Those results motivate us to use either GradientBoosting or Lasso."
   ]
  },
  {
   "cell_type": "markdown",
   "metadata": {},
   "source": [
    "# Example: Grid Search for Lasso\n",
    "\n",
    "Search for the parameter alpha. We can either do this visually:"
   ]
  },
  {
   "cell_type": "code",
   "execution_count": 13,
   "metadata": {
    "collapsed": false
   },
   "outputs": [
    {
     "data": {
      "image/png": "[encoded data removed]",
      "text/plain": [
       "<matplotlib.figure.Figure at 0x11d750c0cc0>"
      ]
     },
     "metadata": {},
     "output_type": "display_data"
    }
   ],
   "source": [
    "xx = []\n",
    "yy = []\n",
    "for k in np.arange(-4,-2, 0.1):\n",
    "    est = Lasso(alpha = np.power(10., k), max_iter = 10000)\n",
    "    sc = cross_val_score(est, X, y, cv=10, scoring = 'neg_mean_squared_error')\n",
    "    xx.append(k)\n",
    "    yy.append(np.sqrt(-np.mean(sc)))\n",
    "plt.plot(xx,yy)\n",
    "plt.xlabel('log(alpha)')\n",
    "plt.show()"
   ]
  },
  {
   "cell_type": "markdown",
   "metadata": {},
   "source": [
    "From this we obtain the optimal alpha = 10^(-3.2). Alternatively, we can use GridSearchCV:"
   ]
  },
  {
   "cell_type": "code",
   "execution_count": 14,
   "metadata": {
    "collapsed": false
   },
   "outputs": [
    {
     "name": "stdout",
     "output_type": "stream",
     "text": [
      "{'alpha': 0.00039810717055349773}\n"
     ]
    }
   ],
   "source": [
    "est = Lasso(max_iter = 3000)\n",
    "parameters = {'alpha':[np.power(10., k) for k in np.arange(-4,-2, 0.1)]}\n",
    "clf = GridSearchCV(est, parameters,scoring = 'neg_mean_squared_error')\n",
    "clf.fit(X,y)\n",
    "print(clf.best_params_)\n"
   ]
  },
  {
   "cell_type": "markdown",
   "metadata": {},
   "source": [
    "# Improvement of Lasso\n",
    "\n",
    "Plain Lasso with the parameters choseen as above yields a Kaggle Score of roughly 0.126, which is much higher than the GradientBoost, which only scores 0.135. For the following analysis we therefore pick Lasso, and try to improve it. \n",
    "\n",
    "First, we check how well our model predicts the given data:"
   ]
  },
  {
   "cell_type": "code",
   "execution_count": 15,
   "metadata": {
    "collapsed": false
   },
   "outputs": [
    {
     "data": {
      "image/png": "[encoded data removed]",
      "text/plain": [
       "<matplotlib.figure.Figure at 0x11d74ee8630>"
      ]
     },
     "metadata": {},
     "output_type": "display_data"
    }
   ],
   "source": [
    "est = Lasso(alpha = 0.000398, max_iter = 10000)\n",
    "est.fit(X, y)\n",
    "y_2 = est.predict(X)\n",
    "plt.scatter(y, y_2, s = 4, lw = 0)\n",
    "plt.plot([np.min(y), np.max(y)], [np.min(y), np.max(y)], color = 'red')\n",
    "plt.show()"
   ]
  },
  {
   "cell_type": "markdown",
   "metadata": {},
   "source": [
    "It seems that the prediction (for the training set) is slightly too low for high-priced houses, and a bit too high for low-priced houses. We might want to correct that later. Also there are a few outliers which we could exclude from the estimator fitting. However, we have to be careful here, since this situation is prone to overfitting. \n",
    "\n",
    "A first attempt to improve the predictions for the tails is to use polynomial interpolation."
   ]
  },
  {
   "cell_type": "code",
   "execution_count": 16,
   "metadata": {
    "collapsed": false
   },
   "outputs": [
    {
     "data": {
      "image/png": "[encoded data removed]",
      "text/plain": [
       "<matplotlib.figure.Figure at 0x11d74fa4438>"
      ]
     },
     "metadata": {},
     "output_type": "display_data"
    }
   ],
   "source": [
    "pipe = make_pipeline(PolynomialFeatures(5), Ridge())\n",
    "Y = y_2[:, np.newaxis]\n",
    "pipe.fit(Y, y)\n",
    "y_3 = pipe.predict(y_2[:, np.newaxis])\n",
    "plt.scatter(y, y_3, s = 4, lw = 0)\n",
    "plt.plot([np.min(y), np.max(y)], [np.min(y), np.max(y)], color = 'red')\n",
    "plt.show()"
   ]
  },
  {
   "cell_type": "markdown",
   "metadata": {},
   "source": [
    "The improvement at the tails is not very satisfactory, and almost not noticable. The Kaggle Score did only improve by 0.001, which is not much. A problem for the Polynomial Interpolation could be that the mid-price range, where the predictions are closest to the real prices, are very dominant. The tails are only weakly represented, and do not have as much influence on the Polynomial Interpolation as we might have hoped. So we drop this approach for the moment.\n",
    "\n",
    "Next, we remove those data points that produce the worst outliers in the predicitons. We do this recursively, and hope to improve the quality of the estimator (this modification of the training set is now clearly overfitting, but we hope that the out-of-sample-error can be reduced by this as well). We remove the 20 'worst' houses."
   ]
  },
  {
   "cell_type": "code",
   "execution_count": 17,
   "metadata": {
    "collapsed": true
   },
   "outputs": [],
   "source": [
    "y = list(y)\n",
    "est = Lasso(alpha = 0.000398, max_iter = 5000)\n",
    "for i in range(20):\n",
    "    est.fit(X,y)\n",
    "    y_test = est.predict(X)\n",
    "    li = [np.absolute(y[o]-y_test[o]) for o in range(len(y))]\n",
    "    ii = li.index(max(li))\n",
    "    del X[ii]\n",
    "    del y[ii]"
   ]
  },
  {
   "cell_type": "markdown",
   "metadata": {},
   "source": [
    "Based on this reduced training set we train the Lasso regression:"
   ]
  },
  {
   "cell_type": "code",
   "execution_count": 25,
   "metadata": {
    "collapsed": true
   },
   "outputs": [],
   "source": [
    "est = Lasso(alpha = 0.000398, max_iter = 5000)\n",
    "est.fit(X,y)\n",
    "y_pred = est.predict(X_test)"
   ]
  },
  {
   "cell_type": "markdown",
   "metadata": {},
   "source": [
    "I don't bother doing cross-validation any more, since we are overfitting the training data. Polynomial interpolation didn't work too good before. I still want to do something similar to take care of the tails. To this end I manually define a third order polynomial mapping."
   ]
  },
  {
   "cell_type": "code",
   "execution_count": 26,
   "metadata": {
    "collapsed": true
   },
   "outputs": [],
   "source": [
    "def poly_correction(y):\n",
    "\tA = [[np.power(12.2,3), np.power(12.2,2), 12.2, 1],[3*np.power(12.2,2), 2*12.2, 1, 0],[np.power(10.5,3), np.power(10.5,2), 10.5, 1],[np.power(13.5,3), np.power(13.5,2), 13.5, 1]]\n",
    "\tb = [12.2, 1, 10.3, 13.7]\n",
    "\tc = np.linalg.solve(A,b)\n",
    "\treturn c[0]*np.power(y,3) + c[1]*np.power(y,2) + c[2]*y+c[3]"
   ]
  },
  {
   "cell_type": "markdown",
   "metadata": {},
   "source": [
    "I obtained it by just 'visually' fitting the polynomial. Now we apply this to y_pred:"
   ]
  },
  {
   "cell_type": "code",
   "execution_count": 27,
   "metadata": {
    "collapsed": false
   },
   "outputs": [],
   "source": [
    "y_final = []\n",
    "for j in y_pred:\n",
    "    y_final.append(poly_correction(j))"
   ]
  },
  {
   "cell_type": "markdown",
   "metadata": {},
   "source": [
    "We can also visually check the quality of the estimator on the training set:"
   ]
  },
  {
   "cell_type": "code",
   "execution_count": 28,
   "metadata": {
    "collapsed": false
   },
   "outputs": [
    {
     "data": {
      "image/png": "[encoded data removed]",
      "text/plain": [
       "<matplotlib.figure.Figure at 0x11d7732b7b8>"
      ]
     },
     "metadata": {},
     "output_type": "display_data"
    }
   ],
   "source": [
    "y_2 = est.predict(X)\n",
    "y_3 = []\n",
    "for j in y_2:\n",
    "    y_3.append(poly_correction(j))\n",
    "plt.scatter(y, y_3, s = 4, lw = 0)\n",
    "plt.plot([np.min(y), np.max(y)], [np.min(y), np.max(y)], color = 'red')\n",
    "plt.show()"
   ]
  },
  {
   "cell_type": "markdown",
   "metadata": {},
   "source": [
    "Submission yields a Kaggle Score of 0.11954."
   ]
  }
 ],
 "metadata": {
  "anaconda-cloud": {},
  "kernelspec": {
   "display_name": "Python [conda root]",
   "language": "python",
   "name": "conda-root-py"
  },
  "language_info": {
   "codemirror_mode": {
    "name": "ipython",
    "version": 3
   },
   "file_extension": ".py",
   "mimetype": "text/x-python",
   "name": "python",
   "nbconvert_exporter": "python",
   "pygments_lexer": "ipython3",
   "version": "3.5.2"
  }
 },
 "nbformat": 4,
 "nbformat_minor": 1
}
