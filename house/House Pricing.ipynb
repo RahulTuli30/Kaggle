{
 "cells": [
  {
   "cell_type": "markdown",
   "metadata": {},
   "source": [
    "# Importing Modules & Reading Data"
   ]
  },
  {
   "cell_type": "code",
   "execution_count": 1,
   "metadata": {
    "collapsed": true
   },
   "outputs": [],
   "source": [
    "import pandas as pd \n",
    "import random\n",
    "import numpy as np \n",
    "import matplotlib.pyplot as plt\n",
    "import matplotlib.colors as colors\n",
    "from sklearn.decomposition import PCA\n",
    "from sklearn import svm, preprocessing, tree, linear_model\n",
    "from sklearn.model_selection import cross_val_score\n",
    "from sklearn.linear_model import LinearRegression, BayesianRidge, Lasso, ElasticNet\n",
    "from sklearn.neural_network import MLPClassifier, MLPRegressor\n",
    "from sklearn.discriminant_analysis import LinearDiscriminantAnalysis\n",
    "from sklearn.kernel_ridge import KernelRidge\n",
    "from sklearn.ensemble import RandomForestRegressor, RandomForestClassifier, GradientBoostingRegressor\n",
    "import csv\n",
    "from sklearn import metrics\n",
    "\n",
    "df_train = pd.read_csv(\"train.csv\")\n",
    "df_test = pd.read_csv('test.csv')\n",
    "ids = df_test['Id']\n",
    "\n",
    "y = np.log(df_train['SalePrice'].tolist())\t\t#y is training prices # log is better for this problem\n",
    "del df_train['SalePrice']"
   ]
  },
  {
   "cell_type": "markdown",
   "metadata": {},
   "source": [
    "# Preparing the data\n",
    "Next we merge the training and the testing set, in order to deal with the categorical variables in a uniform way:"
   ]
  },
  {
   "cell_type": "code",
   "execution_count": 2,
   "metadata": {
    "collapsed": true
   },
   "outputs": [],
   "source": [
    "df = df_train.append(df_test)"
   ]
  },
  {
   "cell_type": "markdown",
   "metadata": {},
   "source": [
    "Categorical features that represent a quality can be transformed into numerical values"
   ]
  },
  {
   "cell_type": "code",
   "execution_count": 3,
   "metadata": {
    "collapsed": true
   },
   "outputs": [],
   "source": [
    "conds = ['Ex', 'Gd', 'TA', 'Fa', 'Po']\n",
    "for i in range(len(conds)):\n",
    "\tdf.loc[df['ExterQual']==conds[i], 'ExterQual'] = len(conds)-i-1\n",
    "\tdf.loc[df['ExterCond']==conds[i], 'ExterCond'] = len(conds)-i-1\n",
    "\tdf.loc[df['BsmtQual'] == conds[i], 'BsmtQual'] = len(conds)-i\n",
    "\tdf.loc[df['BsmtCond'] == conds[i], 'BsmtCond'] = len(conds)-i\n",
    "\tdf.loc[df['HeatingQC']==conds[i], 'HeatingQC'] = len(conds)-i-1\n",
    "\tdf.loc[df['KitchenQual']==conds[i], 'KitchenQual'] = len(conds)-i-1\n",
    "\tdf.loc[df['FireplaceQu']==conds[i], 'FireplaceQu'] = len(conds)-i\n",
    "\tdf.loc[df['GarageQual']==conds[i], 'GarageQual'] = len(conds)-i-1\n",
    "\tdf.loc[df['GarageCond']==conds[i], 'GarageCond'] = len(conds)-i-1\n"
   ]
  },
  {
   "cell_type": "markdown",
   "metadata": {},
   "source": [
    "I don't care when a remodeling took place, but only if it did take place:"
   ]
  },
  {
   "cell_type": "code",
   "execution_count": 4,
   "metadata": {
    "collapsed": true
   },
   "outputs": [],
   "source": [
    "df.loc[df['YearRemodAdd'] != df['YearBuilt'], 'YearRemodAdd'] = 0\n",
    "df.loc[df['YearRemodAdd'] == df['YearBuilt'], 'YearRemodAdd'] = 1"
   ]
  },
  {
   "cell_type": "markdown",
   "metadata": {},
   "source": [
    "Fill in missing values in the above qualitative features, either by 0 if the feature is non-existant, or by the mean if the feature just seems to be missing:"
   ]
  },
  {
   "cell_type": "code",
   "execution_count": 5,
   "metadata": {
    "collapsed": true
   },
   "outputs": [],
   "source": [
    "df.ExterCond.fillna(df['ExterCond'].mean(), inplace=True)\n",
    "df.ExterQual.fillna(df['ExterQual'].mean(), inplace=True)\n",
    "df.BsmtQual.fillna(0, inplace=True)\n",
    "df.BsmtCond.fillna(0, inplace=True)\n",
    "df.HeatingQC.fillna(df['HeatingQC'].mean(), inplace=True)\n",
    "df.KitchenQual.fillna(df['KitchenQual'].mean(), inplace=True)\n",
    "df.FireplaceQu.fillna(0, inplace=True)\n",
    "df.GarageQual.fillna(0, inplace=True)\n",
    "df.GarageCond.fillna(0, inplace=True)"
   ]
  },
  {
   "cell_type": "markdown",
   "metadata": {},
   "source": [
    "Missing 'LotFrontage' most likely means non-existence, hence set to zero. Translate 'CentralAir' into numerical values."
   ]
  },
  {
   "cell_type": "code",
   "execution_count": 6,
   "metadata": {
    "collapsed": true
   },
   "outputs": [],
   "source": [
    "df.LotFrontage.fillna(0, inplace=True)\n",
    "df.loc[df['CentralAir'] == 'Y', 'CentralAir'] = 1\n",
    "df.loc[df['CentralAir'] == 'N', 'CentralAir'] = 0\n",
    "df.CentralAir.fillna(df['CentralAir'].mean(), inplace=True)"
   ]
  },
  {
   "cell_type": "markdown",
   "metadata": {},
   "source": [
    "Translate all other categorical features into dummy variables:"
   ]
  },
  {
   "cell_type": "code",
   "execution_count": 7,
   "metadata": {
    "collapsed": true
   },
   "outputs": [],
   "source": [
    "columns_cat = ['MSSubClass', 'MSZoning', 'Street', 'Alley', 'LotShape', 'LandContour', 'Utilities', 'LotConfig', 'LandSlope', 'Neighborhood', 'Condition1', 'Condition2', 'BldgType', 'HouseStyle', 'RoofStyle', 'RoofMatl', 'Exterior1st', 'Exterior2nd', 'Foundation', 'BsmtExposure', 'BsmtFinType1', 'BsmtFinType2', 'Heating', 'Electrical', 'Functional', 'GarageType', 'GarageFinish', 'PavedDrive', 'PoolQC', 'Fence', 'MiscFeature', 'SaleType', 'SaleCondition']\n",
    "df = pd.concat([df, pd.get_dummies(df[columns_cat])],axis = 1)\n",
    "for c in columns_cat:\t#delete categorical variables since we have dummies now\n",
    "\tdel df[c]"
   ]
  },
  {
   "cell_type": "markdown",
   "metadata": {},
   "source": [
    "In most cases the garage was built in the same year as the house:"
   ]
  },
  {
   "cell_type": "code",
   "execution_count": 8,
   "metadata": {
    "collapsed": true
   },
   "outputs": [],
   "source": [
    "df.loc[pd.isnull(df['GarageYrBlt']), 'GarageYrBlt'] = df.loc[pd.isnull(df['GarageYrBlt']), 'YearBuilt']"
   ]
  },
  {
   "cell_type": "markdown",
   "metadata": {},
   "source": [
    "Take care of 'MasVnrType'"
   ]
  },
  {
   "cell_type": "code",
   "execution_count": 9,
   "metadata": {
    "collapsed": true
   },
   "outputs": [],
   "source": [
    "df.loc[pd.isnull(df['MasVnrType']), 'MasVnrType']  = 'None'\n",
    "pd.concat([df, pd.get_dummies(df['MasVnrType'])],axis = 1)\n",
    "del df['MasVnrType']"
   ]
  },
  {
   "cell_type": "markdown",
   "metadata": {},
   "source": [
    "Very few values are still missing, replace them by the mean of the respective columns:"
   ]
  },
  {
   "cell_type": "code",
   "execution_count": 10,
   "metadata": {
    "collapsed": true
   },
   "outputs": [],
   "source": [
    "df = df.fillna(df.mean())"
   ]
  },
  {
   "cell_type": "markdown",
   "metadata": {},
   "source": [
    "Now we split df back into the training and testing dataframe:"
   ]
  },
  {
   "cell_type": "code",
   "execution_count": 11,
   "metadata": {
    "collapsed": true
   },
   "outputs": [],
   "source": [
    "df_train = df.iloc[0:1460,:]\n",
    "df_test = df.iloc[1460:, :]\n",
    "\n",
    "X = df_train.values.tolist()\n",
    "X_test = df_test.values.tolist()"
   ]
  },
  {
   "cell_type": "markdown",
   "metadata": {},
   "source": [
    "# First Attempts\n",
    "The following is mostly to get a first impression of methods. Note that for Lasso and Random Forest I have already specified parameters obained from a separate grid search."
   ]
  },
  {
   "cell_type": "code",
   "execution_count": 44,
   "metadata": {
    "collapsed": false
   },
   "outputs": [
    {
     "name": "stdout",
     "output_type": "stream",
     "text": [
      "Regressor: LinearRegression(copy_X=True, fit_intercept=True, n_jobs=1, normalize=False)\n",
      "Cross-validation error:  0.156737913051\n",
      "\n",
      "\n",
      "Regressor: Lasso(alpha=0.00063095734448019298, copy_X=True, fit_intercept=True,\n",
      "   max_iter=1000, normalize=False, positive=False, precompute=False,\n",
      "   random_state=None, selection='cyclic', tol=0.0001, warm_start=False)\n",
      "Cross-validation error:  0.137905298958\n",
      "\n",
      "\n",
      "Regressor: ElasticNet(alpha=0.0015848931924611141, copy_X=True, fit_intercept=True,\n",
      "      l1_ratio=0.2, max_iter=5000, normalize=False, positive=False,\n",
      "      precompute=False, random_state=None, selection='cyclic', tol=0.0001,\n",
      "      warm_start=False)\n",
      "Cross-validation error:  0.13804446024\n",
      "\n",
      "\n",
      "Regressor: RandomForestRegressor(bootstrap=True, criterion='mse', max_depth=None,\n",
      "           max_features='auto', max_leaf_nodes=None,\n",
      "           min_impurity_split=1e-07, min_samples_leaf=1,\n",
      "           min_samples_split=2, min_weight_fraction_leaf=0.0,\n",
      "           n_estimators=15, n_jobs=1, oob_score=False, random_state=None,\n",
      "           verbose=0, warm_start=False)\n",
      "Cross-validation error:  0.147773718087\n",
      "\n",
      "\n",
      "Regressor: GradientBoostingRegressor(alpha=0.9, criterion='friedman_mse', init=None,\n",
      "             learning_rate=0.1, loss='ls', max_depth=3, max_features=None,\n",
      "             max_leaf_nodes=None, min_impurity_split=1e-07,\n",
      "             min_samples_leaf=1, min_samples_split=2,\n",
      "             min_weight_fraction_leaf=0.0, n_estimators=100,\n",
      "             presort='auto', random_state=None, subsample=1.0, verbose=0,\n",
      "             warm_start=False)\n",
      "Cross-validation error:  0.126669277011\n",
      "\n",
      "\n",
      "Regressor: MLPRegressor(activation='relu', alpha=1e-05, batch_size='auto', beta_1=0.9,\n",
      "       beta_2=0.999, early_stopping=False, epsilon=1e-08,\n",
      "       hidden_layer_sizes=(50,), learning_rate='constant',\n",
      "       learning_rate_init=0.001, max_iter=200, momentum=0.9,\n",
      "       nesterovs_momentum=True, power_t=0.5, random_state=None,\n",
      "       shuffle=True, solver='lbfgs', tol=0.0001, validation_fraction=0.1,\n",
      "       verbose=False, warm_start=False)\n",
      "Cross-validation error:  7.41129780647\n",
      "\n",
      "\n",
      "Regressor: BayesianRidge(alpha_1=1e-06, alpha_2=1e-06, compute_score=False, copy_X=True,\n",
      "       fit_intercept=True, lambda_1=1e-06, lambda_2=1e-06, n_iter=300,\n",
      "       normalize=False, tol=0.001, verbose=False)\n",
      "Cross-validation error:  0.140566131469\n",
      "\n",
      "\n"
     ]
    }
   ],
   "source": [
    "est_list = [LinearRegression(), \n",
    "            Lasso(alpha = np.power(10.,-3.2)), \n",
    "            linear_model.ElasticNet(alpha = np.power(10., -2.8), l1_ratio = 0.2, max_iter =5000), \n",
    "            RandomForestRegressor(n_estimators = 16, max_depth = 13, min_impurity_split = np.power(10., -4)), \n",
    "            GradientBoostingRegressor(), \n",
    "            MLPRegressor(solver='lbfgs', alpha=1e-5, hidden_layer_sizes=(50,)), \n",
    "            BayesianRidge()]\n",
    "for est in est_list:\n",
    "    est.fit(X, y)\n",
    "    sc = cross_val_score(est, X, y, cv=10, scoring = 'neg_mean_squared_error')\n",
    "    print(\"Regressor:\", str(est))\n",
    "    print('Cross-validation error: ', np.sqrt(-np.mean(sc)))           #cross validation score\n",
    "    print('\\n')"
   ]
  },
  {
   "cell_type": "markdown",
   "metadata": {},
   "source": [
    "GradientBoosting and Lasso look pretty good at our first try, and Neural Networks perform particularly bad. In the following I will focus on the first two methods.\n",
    "\n",
    "Let us compare how the predictied price of Lasso relates to the given price for the training set."
   ]
  },
  {
   "cell_type": "code",
   "execution_count": 22,
   "metadata": {
    "collapsed": false
   },
   "outputs": [
    {
     "data": {
      "image/png": "[encoded data removed]",
      "text/plain": [
       "<matplotlib.figure.Figure at 0x261a1a53cc0>"
      ]
     },
     "metadata": {},
     "output_type": "display_data"
    }
   ],
   "source": [
    "est = Lasso(alpha = np.power(10.,-3.2))\n",
    "est.fit(X, y)\n",
    "y_train = est.predict(X)\n",
    "plt.scatter(y, y_train, s = 4, lw = 0)\n",
    "plt.plot([np.min(y), np.max(y)], [np.min(y), np.max(y)], color = 'red')\n",
    "plt.show()"
   ]
  },
  {
   "cell_type": "markdown",
   "metadata": {},
   "source": [
    "It seems that the prediction (for the training set) is slightly to low for high-priced houses, and a bit to high for low-priced houses. We might want to correct that later. Also there are a few outliers. However, we have to be careful here, since this situation is prone to overfitting."
   ]
  },
  {
   "cell_type": "markdown",
   "metadata": {},
   "source": [
    "# Grid Search for Lasso\n",
    "\n",
    "Search for the parameter alpha."
   ]
  },
  {
   "cell_type": "code",
   "execution_count": 43,
   "metadata": {
    "collapsed": false
   },
   "outputs": [
    {
     "data": {
      "image/png": "[encoded data removed]",
      "text/plain": [
       "<matplotlib.figure.Figure at 0x261a1c4b898>"
      ]
     },
     "metadata": {},
     "output_type": "display_data"
    }
   ],
   "source": [
    "xx = []\n",
    "yy = []\n",
    "for k in np.arange(-4,-2, 0.1):\n",
    "    est = Lasso(alpha = np.power(10., k), max_iter = 10000)\n",
    "    sc = cross_val_score(est, X, y, cv=10, scoring = 'neg_mean_squared_error')\n",
    "    xx.append(k)\n",
    "    yy.append(np.sqrt(-np.mean(sc)))\n",
    "plt.plot(xx,yy)\n",
    "plt.xlabel('log(alpha)')\n",
    "plt.show()"
   ]
  },
  {
   "cell_type": "markdown",
   "metadata": {},
   "source": [
    "We conclude that the optimal alpha is around alpha = 10^(-3.2). "
   ]
  },
  {
   "cell_type": "markdown",
   "metadata": {},
   "source": [
    "# Grid Search for ElasticNet\n",
    "\n",
    "This includes 2 parameters: alpha and l1_ratio. We do this iteratively (here we show only the last step, with 'optimal' l1_ratio already found):"
   ]
  },
  {
   "cell_type": "code",
   "execution_count": 42,
   "metadata": {
    "collapsed": false
   },
   "outputs": [
    {
     "data": {
      "image/png": "[encoded data removed]",
      "text/plain": [
       "<matplotlib.figure.Figure at 0x261a1a84358>"
      ]
     },
     "metadata": {},
     "output_type": "display_data"
    }
   ],
   "source": [
    "xx = []\n",
    "yy = []\n",
    "for k in np.arange(-3.1, -2.5, 0.1):\n",
    "    est = linear_model.ElasticNet(alpha = np.power(10., k), l1_ratio = 0.2, max_iter = 10000)\n",
    "    sc = cross_val_score(est, X, y, cv=10, scoring = 'neg_mean_squared_error')\n",
    "    xx.append(k)\n",
    "    yy.append(np.sqrt(-np.mean(sc)))\n",
    "plt.plot(xx,yy)\n",
    "plt.xlabel('log(alpha)')\n",
    "plt.show()"
   ]
  },
  {
   "cell_type": "markdown",
   "metadata": {},
   "source": [
    "A good choice for the ElasticNet estimator is \\alpha = 10^{-2.8} and l1_ratio = 0.2."
   ]
  },
  {
   "cell_type": "markdown",
   "metadata": {},
   "source": [
    "# RandomForestRegression Grid Search"
   ]
  },
  {
   "cell_type": "code",
   "execution_count": null,
   "metadata": {
    "collapsed": false
   },
   "outputs": [],
   "source": [
    "xx = []\n",
    "yy = []\n",
    "for k in np.arange(10,20, 1):\n",
    "    est = RandomForestRegressor(n_estimators = k, max_depth = 13, min_impurity_split = np.power(10., -4))\n",
    "    sc = cross_val_score(est, X, y, cv=10, scoring = 'neg_mean_squared_error')\n",
    "    xx.append(k)\n",
    "    yy.append(np.sqrt(-np.mean(sc)))\n",
    "plt.plot(xx,yy)\n",
    "plt.show()"
   ]
  },
  {
   "cell_type": "markdown",
   "metadata": {},
   "source": [
    "# Grid Search for Gradient Boosting "
   ]
  },
  {
   "cell_type": "code",
   "execution_count": null,
   "metadata": {
    "collapsed": false
   },
   "outputs": [],
   "source": [
    "xx = []\n",
    "yy = []\n",
    "for k in np.arange(-7,-2, 1):\n",
    "    est = GradientBoostingRegressor(max_depth=3, max_features=None,\n",
    "             max_leaf_nodes=None, min_impurity_split=np.power(10, k), n_estimators=100)\n",
    "    sc = cross_val_score(est, X, y, cv=10, scoring = 'neg_mean_squared_error')\n",
    "    xx.append(k)\n",
    "    yy.append(np.sqrt(-np.mean(sc)))\n",
    "plt.plot(xx,yy)\n",
    "plt.show()"
   ]
  },
  {
   "cell_type": "markdown",
   "metadata": {},
   "source": [
    "# Grid Search for Bayes Ridge"
   ]
  },
  {
   "cell_type": "code",
   "execution_count": null,
   "metadata": {
    "collapsed": false
   },
   "outputs": [],
   "source": [
    "xx = []\n",
    "yy = []\n",
    "for k in np.arange(-7,-2,1):\n",
    "    est = BayesianRidge(alpha_1=1e-04, alpha_2=np.power(10, k), lambda_1=1e-06, lambda_2=1e-06, n_iter=300, tol=0.001)\n",
    "    sc = cross_val_score(est, X, y, cv=10, scoring = 'neg_mean_squared_error')\n",
    "    xx.append(k)\n",
    "    yy.append(np.sqrt(-np.mean(sc)))\n",
    "plt.plot(xx,yy)\n",
    "plt.show()"
   ]
  },
  {
   "cell_type": "code",
   "execution_count": null,
   "metadata": {
    "collapsed": true
   },
   "outputs": [],
   "source": []
  }
 ],
 "metadata": {
  "anaconda-cloud": {},
  "kernelspec": {
   "display_name": "Python [conda root]",
   "language": "python",
   "name": "conda-root-py"
  },
  "language_info": {
   "codemirror_mode": {
    "name": "ipython",
    "version": 3
   },
   "file_extension": ".py",
   "mimetype": "text/x-python",
   "name": "python",
   "nbconvert_exporter": "python",
   "pygments_lexer": "ipython3",
   "version": "3.5.2"
  }
 },
 "nbformat": 4,
 "nbformat_minor": 1
}
