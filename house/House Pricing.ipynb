{
 "cells": [
  {
   "cell_type": "markdown",
   "metadata": {},
   "source": [
    "# Importing Modules & Reading Data"
   ]
  },
  {
   "cell_type": "code",
   "execution_count": 1,
   "metadata": {
    "collapsed": true
   },
   "outputs": [],
   "source": [
    "import pandas as pd \n",
    "import random\n",
    "import numpy as np \n",
    "import matplotlib.pyplot as plt\n",
    "import matplotlib.colors as colors\n",
    "from sklearn.decomposition import PCA\n",
    "from sklearn import svm, preprocessing, tree, linear_model\n",
    "from sklearn.model_selection import cross_val_score\n",
    "from sklearn.linear_model import LinearRegression, BayesianRidge, Lasso, ElasticNet\n",
    "from sklearn.neural_network import MLPClassifier, MLPRegressor\n",
    "from sklearn.discriminant_analysis import LinearDiscriminantAnalysis\n",
    "from sklearn.kernel_ridge import KernelRidge\n",
    "from sklearn.ensemble import RandomForestRegressor, RandomForestClassifier, GradientBoostingRegressor\n",
    "import csv\n",
    "from sklearn import metrics\n",
    "\n",
    "df_train = pd.read_csv(\"train.csv\")\n",
    "df_test = pd.read_csv('test.csv')\n",
    "ids = df_test['Id']\n",
    "\n",
    "y = np.log(df_train['SalePrice'].tolist())\t\t#y is training prices # log is better for this problem\n",
    "del df_train['SalePrice']"
   ]
  },
  {
   "cell_type": "markdown",
   "metadata": {},
   "source": [
    "# Preparing the data\n",
    "Next we merge the training and the testing set, in order to deal with the categorical variables in a uniform way:"
   ]
  },
  {
   "cell_type": "code",
   "execution_count": 2,
   "metadata": {
    "collapsed": true
   },
   "outputs": [],
   "source": [
    "df = df_train.append(df_test)"
   ]
  },
  {
   "cell_type": "markdown",
   "metadata": {},
   "source": [
    "Categorical features that represent a quality can be transformed into numerical values"
   ]
  },
  {
   "cell_type": "code",
   "execution_count": 3,
   "metadata": {
    "collapsed": true
   },
   "outputs": [],
   "source": [
    "conds = ['Ex', 'Gd', 'TA', 'Fa', 'Po']\n",
    "for i in range(len(conds)):\n",
    "\tdf.loc[df['ExterQual']==conds[i], 'ExterQual'] = len(conds)-i-1\n",
    "\tdf.loc[df['ExterCond']==conds[i], 'ExterCond'] = len(conds)-i-1\n",
    "\tdf.loc[df['BsmtQual'] == conds[i], 'BsmtQual'] = len(conds)-i\n",
    "\tdf.loc[df['BsmtCond'] == conds[i], 'BsmtCond'] = len(conds)-i\n",
    "\tdf.loc[df['HeatingQC']==conds[i], 'HeatingQC'] = len(conds)-i-1\n",
    "\tdf.loc[df['KitchenQual']==conds[i], 'KitchenQual'] = len(conds)-i-1\n",
    "\tdf.loc[df['FireplaceQu']==conds[i], 'FireplaceQu'] = len(conds)-i\n",
    "\tdf.loc[df['GarageQual']==conds[i], 'GarageQual'] = len(conds)-i-1\n",
    "\tdf.loc[df['GarageCond']==conds[i], 'GarageCond'] = len(conds)-i-1\n"
   ]
  },
  {
   "cell_type": "markdown",
   "metadata": {},
   "source": [
    "I don't care when a remodeling took place, but only if it did take place:"
   ]
  },
  {
   "cell_type": "code",
   "execution_count": 4,
   "metadata": {
    "collapsed": true
   },
   "outputs": [],
   "source": [
    "df.loc[df['YearRemodAdd'] != df['YearBuilt'], 'YearRemodAdd'] = 0\n",
    "df.loc[df['YearRemodAdd'] == df['YearBuilt'], 'YearRemodAdd'] = 1"
   ]
  },
  {
   "cell_type": "markdown",
   "metadata": {},
   "source": [
    "Fill in missing values in the above qualitative features, either by 0 if the feature is non-existant, or by the mean if the feature just seems to be missing:"
   ]
  },
  {
   "cell_type": "code",
   "execution_count": 5,
   "metadata": {
    "collapsed": true
   },
   "outputs": [],
   "source": [
    "df.ExterCond.fillna(df['ExterCond'].mean(), inplace=True)\n",
    "df.ExterQual.fillna(df['ExterQual'].mean(), inplace=True)\n",
    "df.BsmtQual.fillna(0, inplace=True)\n",
    "df.BsmtCond.fillna(0, inplace=True)\n",
    "df.HeatingQC.fillna(df['HeatingQC'].mean(), inplace=True)\n",
    "df.KitchenQual.fillna(df['KitchenQual'].mean(), inplace=True)\n",
    "df.FireplaceQu.fillna(0, inplace=True)\n",
    "df.GarageQual.fillna(0, inplace=True)\n",
    "df.GarageCond.fillna(0, inplace=True)"
   ]
  },
  {
   "cell_type": "markdown",
   "metadata": {},
   "source": [
    "Missing 'LotFrontage' most likely means non-existence, hence set to zero. Translate 'CentralAir' into numerical values."
   ]
  },
  {
   "cell_type": "code",
   "execution_count": 6,
   "metadata": {
    "collapsed": true
   },
   "outputs": [],
   "source": [
    "df.LotFrontage.fillna(0, inplace=True)\n",
    "df.loc[df['CentralAir'] == 'Y', 'CentralAir'] = 1\n",
    "df.loc[df['CentralAir'] == 'N', 'CentralAir'] = 0\n",
    "df.CentralAir.fillna(df['CentralAir'].mean(), inplace=True)"
   ]
  },
  {
   "cell_type": "markdown",
   "metadata": {},
   "source": [
    "Translate all other categorical features into dummy variables:"
   ]
  },
  {
   "cell_type": "code",
   "execution_count": 7,
   "metadata": {
    "collapsed": true
   },
   "outputs": [],
   "source": [
    "columns_cat = ['MSSubClass', 'MSZoning', 'Street', 'Alley', 'LotShape', 'LandContour', 'Utilities', 'LotConfig', 'LandSlope', 'Neighborhood', 'Condition1', 'Condition2', 'BldgType', 'HouseStyle', 'RoofStyle', 'RoofMatl', 'Exterior1st', 'Exterior2nd', 'Foundation', 'BsmtExposure', 'BsmtFinType1', 'BsmtFinType2', 'Heating', 'Electrical', 'Functional', 'GarageType', 'GarageFinish', 'PavedDrive', 'PoolQC', 'Fence', 'MiscFeature', 'SaleType', 'SaleCondition']\n",
    "df = pd.concat([df, pd.get_dummies(df[columns_cat])],axis = 1)\n",
    "for c in columns_cat:\t#delete categorical variables since we have dummies now\n",
    "\tdel df[c]"
   ]
  },
  {
   "cell_type": "markdown",
   "metadata": {},
   "source": [
    "In most cases the garage was built in the same year as the house:"
   ]
  },
  {
   "cell_type": "code",
   "execution_count": 8,
   "metadata": {
    "collapsed": true
   },
   "outputs": [],
   "source": [
    "df.loc[pd.isnull(df['GarageYrBlt']), 'GarageYrBlt'] = df.loc[pd.isnull(df['GarageYrBlt']), 'YearBuilt']"
   ]
  },
  {
   "cell_type": "markdown",
   "metadata": {},
   "source": [
    "Take care of 'MasVnrType'"
   ]
  },
  {
   "cell_type": "code",
   "execution_count": 9,
   "metadata": {
    "collapsed": true
   },
   "outputs": [],
   "source": [
    "df.loc[pd.isnull(df['MasVnrType']), 'MasVnrType']  = 'None'\n",
    "pd.concat([df, pd.get_dummies(df['MasVnrType'])],axis = 1)\n",
    "del df['MasVnrType']"
   ]
  },
  {
   "cell_type": "markdown",
   "metadata": {},
   "source": [
    "Very few values are still missing, replace them by the mean of the respective columns:"
   ]
  },
  {
   "cell_type": "code",
   "execution_count": 10,
   "metadata": {
    "collapsed": true
   },
   "outputs": [],
   "source": [
    "df = df.fillna(df.mean())"
   ]
  },
  {
   "cell_type": "markdown",
   "metadata": {},
   "source": [
    "Now we split df back into the training and testing dataframe:"
   ]
  },
  {
   "cell_type": "code",
   "execution_count": null,
   "metadata": {
    "collapsed": true
   },
   "outputs": [],
   "source": [
    "df_train = df.iloc[0:1460,:]\n",
    "df_test = df.iloc[1460:, :]"
   ]
  }
 ],
 "metadata": {
  "anaconda-cloud": {},
  "kernelspec": {
   "display_name": "Python [conda root]",
   "language": "python",
   "name": "conda-root-py"
  },
  "language_info": {
   "codemirror_mode": {
    "name": "ipython",
    "version": 3
   },
   "file_extension": ".py",
   "mimetype": "text/x-python",
   "name": "python",
   "nbconvert_exporter": "python",
   "pygments_lexer": "ipython3",
   "version": "3.5.2"
  }
 },
 "nbformat": 4,
 "nbformat_minor": 1
}
